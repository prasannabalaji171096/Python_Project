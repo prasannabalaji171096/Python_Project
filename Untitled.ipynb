{
  "cells": [
    {
      "cell_type": "markdown",
      "metadata": {
        "id": "view-in-github",
        "colab_type": "text"
      },
      "source": [
        "<a href=\"https://colab.research.google.com/github/prasannabalaji171096/Python_Project/blob/main/Untitled.ipynb\" target=\"_parent\"><img src=\"https://colab.research.google.com/assets/colab-badge.svg\" alt=\"Open In Colab\"/></a>"
      ]
    },
    {
      "cell_type": "code",
      "execution_count": null,
      "id": "1b6ccfd6",
      "metadata": {
        "id": "1b6ccfd6",
        "outputId": "ec6b2ba0-29e7-4cee-c676-652c8ecf9673"
      },
      "outputs": [
        {
          "name": "stdout",
          "output_type": "stream",
          "text": [
            "divisible by 2   : 2\n",
            "divisible by 3   : 3\n",
            "divisible by 2   : 4\n",
            "divisible by 3   : 6\n",
            "divisible by 2   : 6\n",
            "divisible by 2   : 8\n",
            "divisible by 3   : 9\n",
            "divisible by 2   : 10\n"
          ]
        }
      ],
      "source": [
        "a=[1,2,3,4,5,6,7,8,9,10,11,13,17]\n",
        "for i in a:\n",
        "    if i%3==0:\n",
        "        print(\"divisible by 3   :\",i)\n",
        "    if i%2==0:\n",
        "        print(\"divisible by 2   :\",i)"
      ]
    },
    {
      "cell_type": "code",
      "execution_count": null,
      "id": "88faf2c3",
      "metadata": {
        "id": "88faf2c3",
        "outputId": "bd71aced-9295-4162-a9ab-6b7634e4a094"
      },
      "outputs": [
        {
          "name": "stdout",
          "output_type": "stream",
          "text": [
            "no number available\n",
            "no number available\n",
            "no number available\n",
            "no number available\n",
            "no number available\n",
            "no number available\n",
            "no number available\n",
            "no number available\n",
            "10\n",
            "11\n",
            "12\n",
            "13\n",
            "14\n"
          ]
        }
      ],
      "source": [
        "b=[2,3,4,5,6,7,8,9,10,11,12,13,14]\n",
        "for i in b:\n",
        "    if i>9:\n",
        "        print(i)\n",
        "    else:\n",
        "        print(\"no number available\")"
      ]
    },
    {
      "cell_type": "code",
      "execution_count": null,
      "id": "078e8458",
      "metadata": {
        "id": "078e8458",
        "outputId": "e472fbdf-89c0-44d7-fe36-0845217c90be"
      },
      "outputs": [
        {
          "name": "stdout",
          "output_type": "stream",
          "text": [
            "enter the a value :2\n",
            "enter the b value :2\n",
            "16\n"
          ]
        }
      ],
      "source": [
        "a=int(input(\"enter the a value :\"))\n",
        "b=int(input(\"enter the b value :\"))\n",
        "c=\n",
        "print(c)"
      ]
    },
    {
      "cell_type": "code",
      "execution_count": null,
      "id": "80b90668",
      "metadata": {
        "id": "80b90668",
        "outputId": "e8e160f5-40bc-4aaf-c8fd-bcfa2c4cb4e5"
      },
      "outputs": [
        {
          "name": "stdout",
          "output_type": "stream",
          "text": [
            "1 --- 3\n",
            "2 --- 3\n",
            "3 --- 2\n",
            "5 --- 1\n",
            "4 --- 3\n",
            "0 --- 1\n"
          ]
        }
      ],
      "source": [
        "a=[1,2,2,2,3,5,3,4,0,1,1,4,4]\n",
        "b=[]\n",
        "for i in a:\n",
        "    if i not in b:\n",
        "        b.append(i)\n",
        "        c=a.count(i)\n",
        "        print(i,'---',c)"
      ]
    },
    {
      "cell_type": "code",
      "execution_count": null,
      "id": "f7865d16",
      "metadata": {
        "id": "f7865d16",
        "outputId": "73890ee0-dd34-4d08-f26c-961585436281"
      },
      "outputs": [
        {
          "name": "stdout",
          "output_type": "stream",
          "text": [
            "56\n",
            "89\n"
          ]
        },
        {
          "data": {
            "text/plain": [
              "89"
            ]
          },
          "execution_count": 28,
          "metadata": {},
          "output_type": "execute_result"
        }
      ],
      "source": [
        "a=int(input())\n",
        "b=int(input())\n",
        "c=max(a,b)\n",
        "c"
      ]
    },
    {
      "cell_type": "code",
      "source": [
        "#palindrome or not\n",
        "s=input()\n",
        "a=list(s)\n",
        "b=a.copy()\n",
        "b.reverse()\n",
        "if a==b:\n",
        "  print(\"palindrome\")\n",
        "else:\n",
        "  print(\"not a palindrome\")"
      ],
      "metadata": {
        "id": "btLChqsaQmwR",
        "colab": {
          "base_uri": "https://localhost:8080/"
        },
        "outputId": "e3f7e3d7-97c0-46bb-9fe7-35c05f411320"
      },
      "id": "btLChqsaQmwR",
      "execution_count": 7,
      "outputs": [
        {
          "output_type": "stream",
          "name": "stdout",
          "text": [
            "123654\n",
            "not a palindrome\n"
          ]
        }
      ]
    },
    {
      "cell_type": "code",
      "source": [
        "#palindrome or not using loops\n",
        "# Python program to check\n",
        "# if a string is palindrome\n",
        "# or not\n",
        "\n",
        "x =input()\n",
        "\n",
        "w = \"\"\n",
        "for i in x:\n",
        "\tw = i + w\n",
        "\n",
        "if (x == w):\n",
        "\tprint(\"Yes\")\n",
        "else:\n",
        "\tprint(\"No\")\n"
      ],
      "metadata": {
        "colab": {
          "base_uri": "https://localhost:8080/"
        },
        "id": "Jltx4C4MFle5",
        "outputId": "8d2247ac-20fc-48be-92a9-d09d05e47cc9"
      },
      "id": "Jltx4C4MFle5",
      "execution_count": 10,
      "outputs": [
        {
          "output_type": "stream",
          "name": "stdout",
          "text": [
            "1234\n",
            "No\n"
          ]
        }
      ]
    },
    {
      "cell_type": "code",
      "source": [],
      "metadata": {
        "id": "RDB2uhxxG7GZ"
      },
      "id": "RDB2uhxxG7GZ",
      "execution_count": null,
      "outputs": []
    }
  ],
  "metadata": {
    "kernelspec": {
      "display_name": "Python 3 (ipykernel)",
      "language": "python",
      "name": "python3"
    },
    "language_info": {
      "codemirror_mode": {
        "name": "ipython",
        "version": 3
      },
      "file_extension": ".py",
      "mimetype": "text/x-python",
      "name": "python",
      "nbconvert_exporter": "python",
      "pygments_lexer": "ipython3",
      "version": "3.9.12"
    },
    "colab": {
      "provenance": [],
      "include_colab_link": true
    }
  },
  "nbformat": 4,
  "nbformat_minor": 5
}